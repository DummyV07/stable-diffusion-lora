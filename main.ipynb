{
 "cells": [
  {
   "cell_type": "markdown",
   "metadata": {},
   "source": [
    "## webui"
   ]
  },
  {
   "cell_type": "code",
   "execution_count": 1,
   "metadata": {},
   "outputs": [
    {
     "data": {
      "text/plain": [
       "'/Users/dummy/CodeSpace/GIT/stable-diffusion-lora'"
      ]
     },
     "execution_count": 1,
     "metadata": {},
     "output_type": "execute_result"
    }
   ],
   "source": [
    "pwd"
   ]
  },
  {
   "cell_type": "markdown",
   "metadata": {},
   "source": [
    "# SD-lora 训练"
   ]
  },
  {
   "cell_type": "code",
   "execution_count": 2,
   "metadata": {},
   "outputs": [
    {
     "name": "stdout",
     "output_type": "stream",
     "text": [
      "正克隆到 'lora-scripts'...\n",
      "remote: Enumerating objects: 2041, done.\u001b[K\n",
      "remote: Counting objects: 100% (130/130), done.\u001b[K\n",
      "remote: Compressing objects: 100% (94/94), done.\u001b[K\n",
      "remote: Total 2041 (delta 51), reused 94 (delta 36), pack-reused 1911 (from 1)\u001b[K\n",
      "接收对象中: 100% (2041/2041), 1.46 MiB | 3.22 MiB/s, 完成.\n",
      "处理 delta 中: 100% (1225/1225), 完成.\n",
      "子模组 'frontend'（https://github.com/hanamizuki-ai/lora-gui-dist）已对路径 'frontend' 注册\n",
      "子模组 'mikazuki/dataset-tag-editor'（https://github.com/Akegarasu/dataset-tag-editor）已对路径 'mikazuki/dataset-tag-editor' 注册\n",
      "正克隆到 '/Users/dummy/CodeSpace/GIT/stable-diffusion-lora/lora-scripts/frontend'...\n",
      "remote: Enumerating objects: 2187, done.        \n",
      "remote: Counting objects: 100% (1311/1311), done.        \n",
      "remote: Compressing objects: 100% (713/713), done.        \n",
      "remote: Total 2187 (delta 766), reused 1067 (delta 532), pack-reused 876 (from 1)        \n",
      "接收对象中: 100% (2187/2187), 9.55 MiB | 9.78 MiB/s, 完成.\n",
      "处理 delta 中: 100% (1435/1435), 完成.\n",
      "正克隆到 '/Users/dummy/CodeSpace/GIT/stable-diffusion-lora/lora-scripts/mikazuki/dataset-tag-editor'...\n",
      "remote: Enumerating objects: 326, done.        \n",
      "remote: Counting objects: 100% (140/140), done.        \n",
      "remote: Compressing objects: 100% (16/16), done.        \n",
      "remote: Total 326 (delta 126), reused 124 (delta 124), pack-reused 186 (from 1)        \n",
      "接收对象中: 100% (326/326), 1.33 MiB | 4.63 MiB/s, 完成.\n",
      "处理 delta 中: 100% (184/184), 完成.\n",
      "子模组路径 'frontend'：检出 '91fa1da4cba69a4068a003b3177a54522424484d'\n",
      "子模组路径 'mikazuki/dataset-tag-editor'：检出 '8ee3a6f30c046f3c89c531dc1abbff2d2a466bcf'\n"
     ]
    }
   ],
   "source": [
    "! git clone --recurse-submodules https://github.com/Akegarasu/lora-scripts"
   ]
  },
  {
   "cell_type": "code",
   "execution_count": 3,
   "metadata": {},
   "outputs": [
    {
     "name": "stdout",
     "output_type": "stream",
     "text": [
      "/Users/dummy/CodeSpace/GIT/stable-diffusion-lora/lora-scripts\n"
     ]
    }
   ],
   "source": [
    "%cd lora-scripts/\n"
   ]
  },
  {
   "cell_type": "code",
   "execution_count": 5,
   "metadata": {},
   "outputs": [
    {
     "name": "stdout",
     "output_type": "stream",
     "text": [
      "zsh:1: permission denied: ./install.bash\n"
     ]
    }
   ],
   "source": [
    "! ./install.bash"
   ]
  },
  {
   "cell_type": "code",
   "execution_count": null,
   "metadata": {},
   "outputs": [],
   "source": []
  }
 ],
 "metadata": {
  "kernelspec": {
   "display_name": "pytorch",
   "language": "python",
   "name": "python3"
  },
  "language_info": {
   "codemirror_mode": {
    "name": "ipython",
    "version": 3
   },
   "file_extension": ".py",
   "mimetype": "text/x-python",
   "name": "python",
   "nbconvert_exporter": "python",
   "pygments_lexer": "ipython3",
   "version": "3.8.18"
  }
 },
 "nbformat": 4,
 "nbformat_minor": 2
}
